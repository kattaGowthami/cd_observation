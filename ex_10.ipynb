{
  "nbformat": 4,
  "nbformat_minor": 0,
  "metadata": {
    "colab": {
      "provenance": [],
      "authorship_tag": "ABX9TyPkFkzIgTG6EwprGXpmMVkl",
      "include_colab_link": true
    },
    "kernelspec": {
      "name": "python3",
      "display_name": "Python 3"
    },
    "language_info": {
      "name": "python"
    }
  },
  "cells": [
    {
      "cell_type": "markdown",
      "metadata": {
        "id": "view-in-github",
        "colab_type": "text"
      },
      "source": [
        "<a href=\"https://colab.research.google.com/github/kattaGowthami/cd_observation/blob/main/ex_10.ipynb\" target=\"_parent\"><img src=\"https://colab.research.google.com/assets/colab-badge.svg\" alt=\"Open In Colab\"/></a>"
      ]
    },
    {
      "cell_type": "code",
      "source": [
        "OPERATORS = set(['+', '-', '*', '/', '(', ')'])\n",
        "PRI = {'+':1, '-':1, '*':2, '/':2}\n",
        "\n",
        "### INFIX ===> POSTFIX ###\n",
        "def infix_to_postfix(formula):\n",
        "    stack = [] # only pop when the coming op has priority \n",
        "    output = ''\n",
        "    for ch in formula:\n",
        "        if ch not in OPERATORS:\n",
        "            output += ch\n",
        "        elif ch == '(':\n",
        "            stack.append('(')\n",
        "        elif ch == ')':\n",
        "            while stack and stack[-1] != '(':\n",
        "                output += stack.pop()\n",
        "            stack.pop() # pop '('\n",
        "        else:\n",
        "            while stack and stack[-1] != '(' and PRI[ch] <= PRI[stack[-1]]:\n",
        "                output += stack.pop()\n",
        "            stack.append(ch)\n",
        "    # leftover\n",
        "    while stack: \n",
        "    \toutput += stack.pop()\n",
        "    print(f'POSTFIX: {output}')\n",
        "    return output\n",
        "\n",
        "### INFIX ===> PREFIX ###\n",
        "def infix_to_prefix(formula):\n",
        "    op_stack = []\n",
        "    exp_stack = []\n",
        "    for ch in formula:\n",
        "        if not ch in OPERATORS:\n",
        "            exp_stack.append(ch)\n",
        "        elif ch == '(':\n",
        "            op_stack.append(ch)\n",
        "        elif ch == ')':\n",
        "            while op_stack[-1] != '(':\n",
        "                op = op_stack.pop()\n",
        "                a = exp_stack.pop()\n",
        "                b = exp_stack.pop()\n",
        "                exp_stack.append( op+b+a )\n",
        "            op_stack.pop() # pop '('\n",
        "        else:\n",
        "            while op_stack and op_stack[-1] != '(' and PRI[ch] <= PRI[op_stack[-1]]:\n",
        "                op = op_stack.pop()\n",
        "                a = exp_stack.pop()\n",
        "                b = exp_stack.pop()\n",
        "                exp_stack.append( op+b+a )\n",
        "            op_stack.append(ch)\n",
        "    \n",
        "    # leftover\n",
        "    while op_stack:\n",
        "        op = op_stack.pop()\n",
        "        a = exp_stack.pop()\n",
        "        b = exp_stack.pop()\n",
        "        exp_stack.append( op+b+a )\n",
        "    print(f'PREFIX: {exp_stack[-1]}')\n",
        "    return exp_stack[-1]\n",
        "\n",
        "### THREE ADDRESS CODE GENERATION ###\n",
        "def generate3AC(pos):\n",
        "\tprint(\"### THREE ADDRESS CODE GENERATION ###\")\n",
        "\texp_stack = []\n",
        "\tt = 1\n",
        "\t\n",
        "\tfor i in pos:\n",
        "\t\tif i not in OPERATORS:\n",
        "\t\t\texp_stack.append(i)\n",
        "\t\telse:\n",
        "\t\t\tprint(f't{t} := {exp_stack[-2]} {i} {exp_stack[-1]}')\n",
        "\t\t\texp_stack=exp_stack[:-2]\n",
        "\t\t\texp_stack.append(f't{t}')\n",
        "\t\t\tt+=1\n",
        "\n",
        "expres = input(\"INPUT THE EXPRESSION: \")\n",
        "pre = infix_to_prefix(expres)\n",
        "pos = infix_to_postfix(expres)\n",
        "generate3AC(pos)"
      ],
      "metadata": {
        "colab": {
          "base_uri": "https://localhost:8080/"
        },
        "id": "iCY4Bh6RUVf6",
        "outputId": "a5cca85b-a4c9-47da-9719-a12cc6641e7e"
      },
      "execution_count": 6,
      "outputs": [
        {
          "output_type": "stream",
          "name": "stdout",
          "text": [
            "INPUT THE EXPRESSION: a+a*a\n",
            "PREFIX: +a*aa\n",
            "POSTFIX: aaa*+\n",
            "### THREE ADDRESS CODE GENERATION ###\n",
            "t1 := a * a\n",
            "t2 := a + t1\n"
          ]
        }
      ]
    },
    {
      "cell_type": "code",
      "source": [
        "keywords = {\"auto\",\"break\",\"case\",\"char\",\"const\",\"continue\",\"default\",\"do\",\n",
        "\"double\",\"else\",\"enum\",\"extern\",\"float\",\"for\",\"goto\",\n",
        "\"if\",\"int\",\"long\",\"register\",\"return\",\"short\",\"signed\",\n",
        "\"sizeof\",\"static\",\"struct\",\"switch\",\"typedef\",\"union\",\n",
        "\"unsigned\",\"void\",\"volatile\",\"while\",\"printf\",\"scanf\",\"%d\",\"include\",\"stdio.h\",\"main\"}\n",
        "\n",
        "operators = {\"+\",\"-\",\"*\",\"/\",\"<\",\">\",\"=\",\"<=\",\">=\",\"==\",\"!=\",\"++\",\"--\",\"%\"}\n",
        "\n",
        "delimiters = {'(',')','{','}','[',']','\"',\"'\",';','#',',',''}\n",
        "\n",
        "def detect_keywords(text):\n",
        "\tarr = []\n",
        "\tfor word in text:\n",
        "\t\tif word in keywords:\n",
        "\t\t\tarr.append(word)\n",
        "\treturn list(set(arr))\n",
        "\n",
        "def detect_operators(text):\n",
        "\tarr = []\n",
        "\tfor word in text:\n",
        "\t\tif word in operators:\n",
        "\t\t\tarr.append(word)\n",
        "\treturn list(set(arr))\n",
        "\n",
        "def detect_delimiters(text):\n",
        "\tarr = []\n",
        "\tfor word in text:\n",
        "\t\tif word in delimiters:\n",
        "\t\t\tarr.append(word)\n",
        "\treturn list(set(arr))\n",
        "\n",
        "def detect_num(text):\n",
        "\tarr = []\n",
        "\tfor word in text:\n",
        "\t\ttry:\n",
        "\t\t\ta = int(word)\n",
        "\t\t\tarr.append(word)\n",
        "\t\texcept:\n",
        "\t\t\tpass\n",
        "\treturn list(set(arr))\n",
        "\"\"\"\n",
        "this is original function for detecting identifier\n",
        "def is_identifier(token):\n",
        "    if token[0] in numbers or token in keywords:\n",
        "        return False\n",
        "    else:\n",
        "        return identifier(token)\n",
        "\n",
        "def identifier(token):\n",
        "    if len(token)<2 and (token[0] in alphabets or token[0] in numbers or token[0] == \"_\"):\n",
        "        return True\n",
        "    elif token[0] in alphabets or token[0] in numbers or token[0] == \"_\":\n",
        "        return identifier(token[1:])\n",
        "    else:\n",
        "        return False\n",
        "\"\"\"\n",
        "def detect_identifiers(text):\n",
        "\tk = detect_keywords(text)\n",
        "\to = detect_operators(text)\n",
        "\td = detect_delimiters(text)\n",
        "\tn = detect_num(text)\n",
        "\tnot_ident = k + o + d + n\n",
        "\tarr = []\n",
        "\tfor word in text:\n",
        "\t\tif word not in not_ident:\n",
        "\t\t\tarr.append(word)\n",
        "\treturn arr\n",
        "\n",
        "with open('/content/e1-example.txt') as t:\n",
        "\ttext = t.read().split()\n",
        "\n",
        "print(\"Keywords: \",detect_keywords(text))\n",
        "print(\"Operators: \",detect_operators(text))\n",
        "print(\"Delimiters: \",detect_delimiters(text))\n",
        "print(\"Identifiers: \",detect_identifiers(text))\n",
        "print(\"Numbers: \",detect_num(text))"
      ],
      "metadata": {
        "colab": {
          "base_uri": "https://localhost:8080/"
        },
        "id": "XfT2GnDBUrz2",
        "outputId": "938af674-ff8c-444f-c290-1dbb1860f437"
      },
      "execution_count": 8,
      "outputs": [
        {
          "output_type": "stream",
          "name": "stdout",
          "text": [
            "Keywords:  []\n",
            "Operators:  []\n",
            "Delimiters:  ['}']\n",
            "Identifiers:  ['if(a+b>10){', 'print(True)', 'else{', 'print(False);']\n",
            "Numbers:  []\n"
          ]
        }
      ]
    }
  ]
}